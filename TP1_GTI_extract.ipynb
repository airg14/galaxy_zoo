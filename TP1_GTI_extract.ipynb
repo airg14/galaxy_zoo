{
 "cells": [
  {
   "cell_type": "markdown",
   "metadata": {},
   "source": [
    "## TP 01 - Extraction des features"
   ]
  },
  {
   "cell_type": "code",
   "execution_count": 1,
   "metadata": {},
   "outputs": [],
   "source": [
    "import pandas as pd\n",
    "from skimage import io\n",
    "import matplotlib.pyplot as plt\n",
    "from concurrent.futures import ThreadPoolExecutor\n",
    "import cv2\n",
    "import numpy as np\n",
    "import time\n",
    "\n",
    "pathToData = 'C:/Users/aroma/Documents/GTI770/data/'\n",
    "\n",
    "# Données de l'exercice\n",
    "df = pd.read_csv(pathToData + 'csv/galaxy/galaxy_label_data_set.csv')"
   ]
  },
  {
   "cell_type": "markdown",
   "metadata": {},
   "source": [
    "### Partie 1 - Seuils de binarisation\n",
    "On va tenter dans un premier temps d'écrire un programme qui prendra une image et un seuil et qui construira l'image binaire correspondante"
   ]
  },
  {
   "cell_type": "code",
   "execution_count": 2,
   "metadata": {},
   "outputs": [],
   "source": [
    "# frac_img_bi permet de ressortir la fraction du nombre de pixel blanc dans une image binarisé pour un seuil donné\n",
    "def frac_img_bi(img, seuil):\n",
    "    compteur = 0\n",
    "    for i in range (img.shape[0]) :\n",
    "        for j in range (img.shape[1]) : \n",
    "#On calcule le niveau de gris de chaque pixel et on applique le seuil pour rendre l'image binaire\n",
    "            if int(0.2989*img[i][j][0] +\n",
    "                   0.5870*img[i][j][1] +\n",
    "                   0.1140*img[i][j][2]) >seuil :\n",
    "               compteur+=1\n",
    "    return compteur/(img.shape[0]*img.shape[1])\n",
    "\n",
    "# extract_binar permet de ressortir la liste des features pour une liste d'image et une liste de seuil donnés\n",
    "def extract_binar (image) :\n",
    "    list_seuil =  [68,128,192]\n",
    "    list_binaire = []\n",
    "    for k in list_seuil :\n",
    "        list_binaire.append(frac_img_bi(image, k))\n",
    "    return list_binaire"
   ]
  },
  {
   "cell_type": "markdown",
   "metadata": {},
   "source": [
    "### Partie 2 : Couleur du pixel central\n",
    "D'après la littérature, la couleur de la galaxie est une caractéristique discriminatoire pour différencier les galaxies smooth et spiral. Nous allons seulement récupérer les informations du pixel central pour ne pas nous encombrer de features trop volumineuses."
   ]
  },
  {
   "cell_type": "code",
   "execution_count": 3,
   "metadata": {},
   "outputs": [],
   "source": [
    "def pixel_central (img) : \n",
    "    return img[int(img.shape[0]/2)][int(img.shape[1]/2)].tolist()"
   ]
  },
  {
   "cell_type": "markdown",
   "metadata": {},
   "source": [
    "### Partie 3 : Détection de contour\n",
    "En étudiant plusieurs photos disponibles on remarque que les galaxies sont de tailles différentes, on souhaite donc étudier leur périmètre. Pour cela on a décidé de mettre en place un algorithme de détection de contour. Les pixels concernés auront alors une couleur blanche. Nous prendrons le nombre de pixel blanc par image comme feature."
   ]
  },
  {
   "cell_type": "code",
   "execution_count": 4,
   "metadata": {},
   "outputs": [],
   "source": [
    "def det_contour (idImg) :\n",
    "    img = cv2.imread(pathToData + 'images/' + idImg +'.jpg',0)\n",
    "    edge = cv2.Canny(img,1,45)\n",
    "    compteur = 0\n",
    "    for k in range (edge.shape[0]) :\n",
    "        for l in range (edge.shape[1]) :\n",
    "            if edge[k][l] != 0 :\n",
    "                compteur+=1\n",
    "    return compteur/(edge.shape[0]*edge.shape[1])"
   ]
  },
  {
   "cell_type": "markdown",
   "metadata": {},
   "source": [
    "### Partie 4 : Extraction des features\n",
    "Nous avons définis toutes les fonctions pour les features et nous allons maintenant les extraire. On souhaite avoir un fichier de la forme suivante : Id de l'image, fractions après les différentes valeurs de seuil, pixel central et fraction sur les contours."
   ]
  },
  {
   "cell_type": "code",
   "execution_count": 5,
   "metadata": {},
   "outputs": [],
   "source": [
    "#On instancie différentes variable pour stocker les futures liste de features et target\n",
    "list_img = []\n",
    "# k est le compteur pour gérer le nombre d'image qu'on veut traiter\n",
    "k = 0\n",
    "\n",
    "#On recherche 20 valeurs\n",
    "while k<10:\n",
    "    img = io.imread(pathToData + 'images/' + str(df.iloc[k][0]) + '.jpg')\n",
    "\n",
    "    #Coord new origin point\n",
    "    xcoord = int(img.shape[0]/2)-40\n",
    "    ycoord = int(img.shape[1]/2)-40\n",
    "    \n",
    "    newimg = np.zeros((80,80,3), dtype=np.uint8)\n",
    "    \n",
    "    for i in range(80) :\n",
    "        for j in range(80) : \n",
    "            newimg[i][j] = img[ycoord+i][xcoord+j]\n",
    "    list_img.append([df.iloc[k][0],cv2.fastNlMeansDenoisingColored(newimg,None,10,10,7,21), df.iloc[k][1]])\n",
    "    k+=1   "
   ]
  },
  {
   "cell_type": "code",
   "execution_count": 6,
   "metadata": {},
   "outputs": [],
   "source": [
    "def processImg(image):\n",
    "    res_binaire  = extract_binar(image[1])\n",
    "    res_pixel = pixel_central(image[1])\n",
    "    res_contour = det_contour(str(image[0]))\n",
    "    resultats.append([image[0],res_binaire[0],res_binaire[1],res_binaire[2],res_pixel[0],\n",
    "                      res_pixel[1],res_pixel[2],res_contour, image[2]])"
   ]
  },
  {
   "cell_type": "code",
   "execution_count": 7,
   "metadata": {},
   "outputs": [
    {
     "name": "stdout",
     "output_type": "stream",
     "text": [
      "Temps d execution : 11.654747486114502 secondes ---\n"
     ]
    }
   ],
   "source": [
    "resultats = []\n",
    "\n",
    "start_time = time.time()\n",
    "with ThreadPoolExecutor(max_workers=1000) as executor:\n",
    "    futures = [executor.submit(processImg, image) for image in list_img]\n",
    "print(\"Temps d execution : %s secondes ---\" % (time.time() - start_time))"
   ]
  },
  {
   "cell_type": "code",
   "execution_count": 9,
   "metadata": {},
   "outputs": [],
   "source": [
    "extract = pd.DataFrame(resultats)\n",
    "extract.columns = ['image name','threshold value 1','threshold value 2','threshold value 3',\n",
    "                   'central pixel red','central pixel green','central pixel blue','contour detection','galaxy_type']\n",
    "extract.to_csv('test')"
   ]
  }
 ],
 "metadata": {
  "kernelspec": {
   "display_name": "Python 3",
   "language": "python",
   "name": "python3"
  },
  "language_info": {
   "codemirror_mode": {
    "name": "ipython",
    "version": 3
   },
   "file_extension": ".py",
   "mimetype": "text/x-python",
   "name": "python",
   "nbconvert_exporter": "python",
   "pygments_lexer": "ipython3",
   "version": "3.7.3"
  }
 },
 "nbformat": 4,
 "nbformat_minor": 2
}
